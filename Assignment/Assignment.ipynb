{
  "nbformat": 4,
  "nbformat_minor": 0,
  "metadata": {
    "colab": {
      "provenance": []
    },
    "kernelspec": {
      "name": "python3",
      "display_name": "Python 3"
    },
    "language_info": {
      "name": "python"
    }
  },
  "cells": [
    {
      "cell_type": "markdown",
      "source": [
        "1) What are the types of Applications?\n",
        "Answer :- Web Development\n",
        "- Data Science and Machine Learning\n",
        "- Scientific and Numeric Computing\n",
        "- Game Development\n",
        "- Desktop GUI Applications\n",
        "- Software Development\n",
        "- Business Applications\n",
        "- Console-based Applications\n",
        "\n"
      ],
      "metadata": {
        "id": "zz88n74A6aw4"
      }
    },
    {
      "cell_type": "markdown",
      "source": [
        "2) What is programing ?\n",
        "\n",
        "Ans:- Python is a programming language that is interpreted, object-oriented, and considered to be high-level too. What is Python? Python is one of the easiest yet most useful programming languages which is widely used in the software industry. People use Python for Competitive Programming, Web Development, and creating software. Due to its easiest syntax, it is recommended for beginners who are new to the software engineering field. Its demand is growing at a very rapid pace due to its vast use cases in Modern Technological fields like Data Science, Machine learning, and Automation Tasks. For many years now, it has been ranked among the top Programming languages.\n"
      ],
      "metadata": {
        "id": "ST7_rKWO8W7l"
      }
    },
    {
      "cell_type": "markdown",
      "source": [
        "3) What is Python?\n",
        "\n",
        "Ans:- python is high level,general purpose,interpreted programing language.that has redeblity and simlicity.it was created by guido van rossum first relesed in 1991.python has become one of the most popular and vercitile language,non for its clean syntax and easy to learn nature."
      ],
      "metadata": {
        "id": "9wIDmate8ACw"
      }
    },
    {
      "cell_type": "markdown",
      "source": [
        "4) Write a Python program to check if a number is positive, negative or\n",
        "zero"
      ],
      "metadata": {
        "id": "CyKQJT_38una"
      }
    },
    {
      "cell_type": "code",
      "execution_count": 1,
      "metadata": {
        "id": "MoNpZ3Na6Z7h",
        "colab": {
          "base_uri": "https://localhost:8080/"
        },
        "outputId": "1447f9a7-d830-41f3-9d5b-937fe112a402"
      },
      "outputs": [
        {
          "output_type": "stream",
          "name": "stdout",
          "text": [
            "Enter a number: -1\n",
            "Negative number\n"
          ]
        }
      ],
      "source": [
        "num = float(input(\"Enter a number: \"))\n",
        "if num > 0:\n",
        "   print(\"Positive number\")\n",
        "elif num == 0:\n",
        "   print(\"Zero\")\n",
        "else:\n",
        "   print(\"Negative number\")"
      ]
    },
    {
      "cell_type": "markdown",
      "source": [
        "5) Write a Python program to get the Factorial number of given numbers."
      ],
      "metadata": {
        "id": "s6t0Hlvw9Ts2"
      }
    },
    {
      "cell_type": "code",
      "source": [
        "def factorial(n):\n",
        "    if n == 0:\n",
        "        return 1\n",
        "    else:\n",
        "        return n * factorial(n-1)\n",
        "num = int(input(\"Enter a number to find its factorial: \"))\n",
        "if num <0:\n",
        "  print(\"factorail can not be found  for negative number\")\n",
        "elif num ==0:\n",
        "  print(\"factorail of 0 is 1 \")\n",
        "else:\n",
        "  print(\"factorail of num is factorail(num)\")\n"
      ],
      "metadata": {
        "colab": {
          "base_uri": "https://localhost:8080/"
        },
        "id": "RdX9Oisw9YRU",
        "outputId": "0d4db2a1-16f6-4f21-f3a3-7f0cc9ae240e"
      },
      "execution_count": 4,
      "outputs": [
        {
          "output_type": "stream",
          "name": "stdout",
          "text": [
            "Enter a number to find its factorial: -1\n",
            "factorail can not be found  for negative number\n"
          ]
        }
      ]
    },
    {
      "cell_type": "markdown",
      "source": [
        "6) Write a Python program to get the Fibonacci series of given range"
      ],
      "metadata": {
        "id": "bUv3enGo9oVa"
      }
    },
    {
      "cell_type": "code",
      "source": [
        "a,b=0,1\n",
        "n=int(input(\"enter n : \"))\n",
        "print(a,end=\" \")\n",
        "while b<n:\n",
        "    print(b,end=\" \")\n",
        "    a,b=b,a+b"
      ],
      "metadata": {
        "colab": {
          "base_uri": "https://localhost:8080/"
        },
        "id": "qCO4LHpM9rL2",
        "outputId": "016dc27f-2aca-40a0-a781-e1b20215ee6a"
      },
      "execution_count": 5,
      "outputs": [
        {
          "output_type": "stream",
          "name": "stdout",
          "text": [
            "enter n : 5\n",
            "0 1 1 2 3 "
          ]
        }
      ]
    },
    {
      "cell_type": "markdown",
      "source": [
        "7) How memory is managed in Python?\n",
        "\n",
        "Ans:- Python memory management is the process of allocating and dealing with memory so that your programs can run efficiently. One advantage of Python, compared to other programming languages, is that it can perform memory management tasks automatically."
      ],
      "metadata": {
        "id": "mi-w01C995L4"
      }
    },
    {
      "cell_type": "markdown",
      "source": [
        "8) What is the purpose continuing statement in python?\n",
        "\n",
        "Ans:- The continue statement in Python is used to skip the remaining code inside a loop for the current iteration only and move on to the next iteration."
      ],
      "metadata": {
        "id": "GdxeHT78-JAo"
      }
    },
    {
      "cell_type": "markdown",
      "source": [
        "9) Write python program that swap two number with temp variable\n",
        "and without temp variable"
      ],
      "metadata": {
        "id": "tjVP1JwW-Qy0"
      }
    },
    {
      "cell_type": "code",
      "source": [
        "def swap_numbers(a, b):\n",
        "    a, b = b, a\n",
        "    return a, b\n",
        "print(\"swapping without temp variable: a = {a}, b = {b}\")\n",
        "a=5\n",
        "b=10\n",
        "a,b = swap_numbers(a,b)\n",
        "print(\"after swap: a =\", a,\"b =\", b)"
      ],
      "metadata": {
        "colab": {
          "base_uri": "https://localhost:8080/"
        },
        "id": "AFAjvfZj-V3g",
        "outputId": "b62e6b7c-ba74-41cf-8f44-70e52caddc66"
      },
      "execution_count": 6,
      "outputs": [
        {
          "output_type": "stream",
          "name": "stdout",
          "text": [
            "swapping without temp variable: a = {a}, b = {b}\n",
            "after swap: a = 10 b = 5\n"
          ]
        }
      ]
    },
    {
      "cell_type": "markdown",
      "source": [
        "10) Write a Python program to find whether a given number is even\n",
        "or odd, print out an appropriate message to the user."
      ],
      "metadata": {
        "id": "F0PNpxWp-cNl"
      }
    },
    {
      "cell_type": "code",
      "source": [
        "num=int(input(\"enter a number \"))\n",
        "if num%2==0:\n",
        "  print(\"even\")\n",
        "else:\n",
        "  print(\"odd\")"
      ],
      "metadata": {
        "colab": {
          "base_uri": "https://localhost:8080/"
        },
        "id": "4vrOEUbz-fjl",
        "outputId": "75528dd3-2706-4ddb-c2e4-e99913095975"
      },
      "execution_count": 7,
      "outputs": [
        {
          "output_type": "stream",
          "name": "stdout",
          "text": [
            "enter a number 15\n",
            "odd\n"
          ]
        }
      ]
    },
    {
      "cell_type": "markdown",
      "source": [
        "11) Write a Python program to test whether a passed letter is a vowel\n",
        "or not."
      ],
      "metadata": {
        "id": "jqLDqzcS-jl7"
      }
    },
    {
      "cell_type": "code",
      "source": [
        "a=input(\"enter a letter \")\n",
        "if a==\"a\" or a==\"e\" or a==\"i\" or a==\"o\" or a==\"u\":\n",
        "  print(\"vowel\")\n",
        "else:\n",
        "  print(\"not vowel\")"
      ],
      "metadata": {
        "colab": {
          "base_uri": "https://localhost:8080/"
        },
        "id": "JjoXqk8Q-nGW",
        "outputId": "b59275cc-a06a-468d-b9a1-2c627eece17b"
      },
      "execution_count": 8,
      "outputs": [
        {
          "output_type": "stream",
          "name": "stdout",
          "text": [
            "enter a letter z\n",
            "not vowel\n"
          ]
        }
      ]
    },
    {
      "cell_type": "markdown",
      "source": [
        "12) Write a Python program to sum of three given integers. However, if\n",
        "two values are equal sum will be zero."
      ],
      "metadata": {
        "id": "3FOskog7-r7g"
      }
    },
    {
      "cell_type": "code",
      "source": [
        "def sum_of_three(a, b, c):\n",
        "    if a == b or b == c or a == c:\n",
        "        return 0\n",
        "    else:\n",
        "        return a + b + c\n",
        "result = sum_of_three(1,2,3)\n",
        "print(result)\n",
        "result = sum_of_three(2,2,3)\n",
        "print(result)\n",
        "result = sum_of_three(1,2,2)\n",
        "print(result)\n",
        "result = sum_of_three(2,2,2)\n",
        "print(result)"
      ],
      "metadata": {
        "colab": {
          "base_uri": "https://localhost:8080/"
        },
        "id": "0VO1JxqT-yW_",
        "outputId": "9a0839d0-751e-494f-f5c4-62715170a8b1"
      },
      "execution_count": 9,
      "outputs": [
        {
          "output_type": "stream",
          "name": "stdout",
          "text": [
            "6\n",
            "0\n",
            "0\n",
            "0\n"
          ]
        }
      ]
    },
    {
      "cell_type": "markdown",
      "source": [
        "13) Write a Python program that will return true if the two given\n",
        "integer values are equal or their sum or difference is 5."
      ],
      "metadata": {
        "id": "S-fUj956-r1R"
      }
    },
    {
      "cell_type": "code",
      "source": [
        "num1=int(input(\"enter first number \"))\n",
        "num2=int(input(\"enter second number \"))\n",
        "if num1==num2 or num1+num2==5 or num1-num2==5:\n",
        "  print(\"True\")\n",
        "else:\n",
        "  print(\"False\")\n"
      ],
      "metadata": {
        "colab": {
          "base_uri": "https://localhost:8080/"
        },
        "id": "BndcpfdZ-_RZ",
        "outputId": "d51c074d-59d0-4455-83c4-1a4d7b37882e"
      },
      "execution_count": 11,
      "outputs": [
        {
          "output_type": "stream",
          "name": "stdout",
          "text": [
            "enter first number 10\n",
            "enter second number 5\n",
            "True\n"
          ]
        }
      ]
    },
    {
      "cell_type": "markdown",
      "source": [
        "14) Write a python program to sum of the first n positive integers"
      ],
      "metadata": {
        "id": "Ft8-ppeD-ri0"
      }
    },
    {
      "cell_type": "code",
      "source": [
        "def sum_of_first_n_positive_integers(n):\n",
        "    sum = 0\n",
        "    for i in range(1, n+1):\n",
        "        sum += i\n",
        "    return sum\n",
        "n = int(input(\"enter a positive integer: \"))\n",
        "result = sum_of_first_n_positive_integers(n)\n",
        "print(\"sum of the first\", n, \"positive integers is: \", result)"
      ],
      "metadata": {
        "colab": {
          "base_uri": "https://localhost:8080/"
        },
        "id": "57CCH1Iq_KXF",
        "outputId": "036de488-7729-45d1-b19d-ec1731552c03"
      },
      "execution_count": 12,
      "outputs": [
        {
          "output_type": "stream",
          "name": "stdout",
          "text": [
            "enter a positive integer: 15\n",
            "sum of the first 15 positive integers is:  120\n"
          ]
        }
      ]
    },
    {
      "cell_type": "markdown",
      "source": [
        "15) Write a Python program to calculate the length of a string."
      ],
      "metadata": {
        "id": "6FPTPY4h_LpJ"
      }
    },
    {
      "cell_type": "code",
      "source": [
        "string=input(\"enter a string \")\n",
        "print(len(string))\n"
      ],
      "metadata": {
        "colab": {
          "base_uri": "https://localhost:8080/"
        },
        "id": "s-MsXPZx973B",
        "outputId": "faf62800-94c3-42b4-c345-39a9eedf2f78"
      },
      "execution_count": 13,
      "outputs": [
        {
          "output_type": "stream",
          "name": "stdout",
          "text": [
            "enter a string shailesh\n",
            "8\n"
          ]
        }
      ]
    },
    {
      "cell_type": "markdown",
      "source": [
        "16) Write a Python program to count the number of characters\n",
        "(character frequency) in a string.\n"
      ],
      "metadata": {
        "id": "j9sWrjgb_LD8"
      }
    },
    {
      "cell_type": "code",
      "source": [
        "def character_frequency(string):\n",
        "    frequency = {}\n",
        "    for char in string:\n",
        "        if char in frequency:\n",
        "            frequency[char] += 1\n",
        "        else:\n",
        "            frequency[char] = 1\n",
        "    return frequency\n",
        "input_string =\"Hello Google\"\n",
        "frequency_dict = character_frequency(input_string)\n",
        "for char, freq in frequency_dict.items():\n",
        "  print(f\"Character '{char}' occurs {freq} times\")"
      ],
      "metadata": {
        "colab": {
          "base_uri": "https://localhost:8080/"
        },
        "id": "CQFelbQV9OJS",
        "outputId": "7062c459-6482-4255-98c2-f8bdca6cfc40"
      },
      "execution_count": 15,
      "outputs": [
        {
          "output_type": "stream",
          "name": "stdout",
          "text": [
            "Character 'H' occurs 1 times\n",
            "Character 'e' occurs 2 times\n",
            "Character 'l' occurs 3 times\n",
            "Character 'o' occurs 3 times\n",
            "Character ' ' occurs 1 times\n",
            "Character 'G' occurs 1 times\n",
            "Character 'g' occurs 1 times\n"
          ]
        }
      ]
    },
    {
      "cell_type": "markdown",
      "source": [
        "17) What are negative indexes and why are they used?\n",
        "\n",
        "Ans:- Negative indexing allows you to access elements of a sequence from the end, using negative numbers as indexes. This can be useful for getting the last few elements of a sequence, reversing a sequence, or performing other operations that require accessing elements from the end.\n",
        "\n"
      ],
      "metadata": {
        "id": "JZU0nGvx_qy2"
      }
    },
    {
      "cell_type": "markdown",
      "source": [
        "18) Write a Python program to count occurrences of a substring in a string."
      ],
      "metadata": {
        "id": "85II0qf__90D"
      }
    },
    {
      "cell_type": "code",
      "source": [
        "string=input(\"enter a string \")\n",
        "substring=input(\"enter a substring \")\n",
        "count=string.count(substring)\n",
        "print(count)"
      ],
      "metadata": {
        "colab": {
          "base_uri": "https://localhost:8080/"
        },
        "id": "cVAAzBt4_rSw",
        "outputId": "116b7e18-6437-41c9-deb1-8d6ecfff3d8e"
      },
      "execution_count": 16,
      "outputs": [
        {
          "output_type": "stream",
          "name": "stdout",
          "text": [
            "enter a string Shailesh\n",
            "enter a substring Chaudhari\n",
            "0\n"
          ]
        }
      ]
    },
    {
      "cell_type": "markdown",
      "source": [
        "19) Write a Python program to count the occurrences of each word in a given sentence."
      ],
      "metadata": {
        "id": "iEcfOQUH_rq_"
      }
    },
    {
      "cell_type": "code",
      "source": [
        "def count_words(sentence):\n",
        "    words = sentence.split()\n",
        "    word_counts = {}\n",
        "    for word in words:\n",
        "        if word in word_counts:\n",
        "            word_counts[word] += 1\n",
        "        else:\n",
        "            word_counts[word] = 1\n",
        "    return word_counts\n",
        "\n",
        "sentence = input(\"enter a sentence: \")\n",
        "word_counts = count_words(sentence)\n",
        "for word, count in word_counts.items():\n",
        "  print(f'{word}:{count}')"
      ],
      "metadata": {
        "colab": {
          "base_uri": "https://localhost:8080/"
        },
        "id": "I4lfgslr_sdN",
        "outputId": "c9cd7b78-67ba-4974-c4d8-65e624bb2a79"
      },
      "execution_count": 17,
      "outputs": [
        {
          "output_type": "stream",
          "name": "stdout",
          "text": [
            "enter a sentence: Hello shailesh \n",
            "Hello:1\n",
            "shailesh:1\n"
          ]
        }
      ]
    },
    {
      "cell_type": "markdown",
      "source": [
        "20) Write a Python program to get a single string from two given strings,\n",
        "separated by a space and swap the first two characters of each string."
      ],
      "metadata": {
        "id": "zkVkh45u_tAJ"
      }
    },
    {
      "cell_type": "code",
      "source": [
        "str1=input(\"enter a string \")\n",
        "str2=input(\"enter a string \")\n",
        "print(str2[:2]+str1[2:]+\" \"+str1[:2]+str2[2:])\n"
      ],
      "metadata": {
        "colab": {
          "base_uri": "https://localhost:8080/"
        },
        "id": "Cx_687Hd_lx6",
        "outputId": "e2eea889-6112-4176-bc6f-c525cf85ddcd"
      },
      "execution_count": 18,
      "outputs": [
        {
          "output_type": "stream",
          "name": "stdout",
          "text": [
            "enter a string chaudhari\n",
            "enter a string shailesh\n",
            "shaudhari chailesh\n"
          ]
        }
      ]
    },
    {
      "cell_type": "markdown",
      "source": [
        "21) Write a Python program to add 'in' at the end of a given string (length\n",
        "should be at least 3). If the given string already ends with 'ing' then\n",
        "add 'ly' instead if the string length of the given string is less than 3,\n",
        "leave it unchanged."
      ],
      "metadata": {
        "id": "1kR1bUkm_tpB"
      }
    },
    {
      "cell_type": "code",
      "source": [
        "str1=input(\"enter a string \")\n",
        "if len(str1)<3:\n",
        "  print(str1)\n",
        "elif str1[-3:]==\"ing\":\n",
        "  print(str1+\"ly\")\n",
        "else:\n",
        "  print(str1+\"ing\")"
      ],
      "metadata": {
        "colab": {
          "base_uri": "https://localhost:8080/"
        },
        "id": "ViXD8jTu_uDh",
        "outputId": "6d24dc9c-dc30-4a3e-839d-16ab437c00c6"
      },
      "execution_count": 19,
      "outputs": [
        {
          "output_type": "stream",
          "name": "stdout",
          "text": [
            "enter a string Shailesh Narsinhbhai Chaudhari\n",
            "Shailesh Narsinhbhai Chaudhariing\n"
          ]
        }
      ]
    },
    {
      "cell_type": "markdown",
      "source": [
        "22) Write a Python function to reverses a string if its length is a multiple\n",
        "of 4."
      ],
      "metadata": {
        "id": "s5xVGfPjBEWY"
      }
    },
    {
      "cell_type": "code",
      "source": [
        "string=input(\"enter a string \")\n",
        "if len(string)%4==0:\n",
        "  print(string[::-1])\n",
        "else:\n",
        "  print(string)"
      ],
      "metadata": {
        "colab": {
          "base_uri": "https://localhost:8080/"
        },
        "id": "cb3wxH75A-5L",
        "outputId": "ee4e2353-3ce3-41fd-a604-3d7ee11cfd0a"
      },
      "execution_count": 20,
      "outputs": [
        {
          "output_type": "stream",
          "name": "stdout",
          "text": [
            "enter a string kankariya\n",
            "kankariya\n"
          ]
        }
      ]
    },
    {
      "cell_type": "markdown",
      "source": [
        "23) Write a Python program to get a string made of the first 2 and the last\n",
        "2 chars from a given a string. If the string length is less than 2, return\n",
        "instead of the empty string."
      ],
      "metadata": {
        "id": "KisiIsURBAnB"
      }
    },
    {
      "cell_type": "code",
      "source": [
        "string=input(\"enter a string \")\n",
        "if len(string)<2:\n",
        "  print(\"\")\n",
        "else:\n",
        "  print(string[:2]+string[-2:])"
      ],
      "metadata": {
        "colab": {
          "base_uri": "https://localhost:8080/"
        },
        "id": "VTs3Qu3eA1Fa",
        "outputId": "aebfdb22-721b-4c78-e1b4-154608b4ccf0"
      },
      "execution_count": 21,
      "outputs": [
        {
          "output_type": "stream",
          "name": "stdout",
          "text": [
            "enter a string 2 machhali chhapak\n",
            "2 ak\n"
          ]
        }
      ]
    },
    {
      "cell_type": "markdown",
      "source": [
        "24) Write a Python function to insert a string in the middle of a string."
      ],
      "metadata": {
        "id": "zPSReWlSBluT"
      }
    },
    {
      "cell_type": "code",
      "source": [
        "def insert_string_middle(string, word):\n",
        "    return string[:len(string)//2] + word + string[len(string)//2:]\n",
        "result = insert_string_middle(\"power bi\", \"excel\")\n",
        "print(result)\n"
      ],
      "metadata": {
        "colab": {
          "base_uri": "https://localhost:8080/"
        },
        "id": "h-FAUBqoBbqh",
        "outputId": "f8e673bf-5c2f-45e2-8718-9837dc306e84"
      },
      "execution_count": 22,
      "outputs": [
        {
          "output_type": "stream",
          "name": "stdout",
          "text": [
            "poweexcelr bi\n"
          ]
        }
      ]
    },
    {
      "cell_type": "markdown",
      "source": [
        "25) What is List? How will you reverse a list?\n",
        "\n",
        "Ans:- A list is a data structure in Python that is a mutable, or changeable, ordered sequence of elements. Each element or value that is inside of a list is called an item. Just as strings are defined as characters between quotes, lists are defined by having values between square brackets [ ] .\n",
        "reverse list syntax: [: :-1]\n"
      ],
      "metadata": {
        "id": "T6cPjgMhBsYv"
      }
    },
    {
      "cell_type": "markdown",
      "source": [
        "26) How will you remove last object from a list?\n",
        "\n",
        "Ans:- The method pop() can be used to remove and return the last value from the list or the given index value. If the index is not given, then the last element is popped out and removed\n"
      ],
      "metadata": {
        "id": "KQJkGZtOB-yt"
      }
    },
    {
      "cell_type": "markdown",
      "source": [
        "27) Suppose list1 is [2, 33, 222, 14, and 25], what is list1 [-\n",
        "1]?"
      ],
      "metadata": {
        "id": "Nfj5GpMnCQVN"
      }
    },
    {
      "cell_type": "code",
      "source": [
        "list1 = [2, 33, 222, 14, 25]\n",
        "print(list1[-1])"
      ],
      "metadata": {
        "colab": {
          "base_uri": "https://localhost:8080/"
        },
        "id": "6Y-d0UbJBsyh",
        "outputId": "d0779966-d278-44f5-9f17-4e1bd9fa54bf"
      },
      "execution_count": 25,
      "outputs": [
        {
          "output_type": "stream",
          "name": "stdout",
          "text": [
            "25\n"
          ]
        }
      ]
    },
    {
      "cell_type": "markdown",
      "source": [
        "28) Differentiate between append () and extend () methods?\n",
        "\n",
        "Ans:- The append() method adds a single element to the end of the list while the extend() method adds all the elements of an iterable to the end of the list\n"
      ],
      "metadata": {
        "id": "eAzWYYCfBtIq"
      }
    },
    {
      "cell_type": "markdown",
      "source": [
        "29) Write a Python function to get the largest number, smallest num\n",
        "and sum of all from a list."
      ],
      "metadata": {
        "id": "XSK9EwoECn_v"
      }
    },
    {
      "cell_type": "code",
      "source": [
        "def largest_smallest_sum(numbers):\n",
        "    largest = max(numbers)\n",
        "    smallest = min(numbers)\n",
        "    total = sum(numbers)\n",
        "    return largest, smallest, total\n",
        "numbers = [10,15,35,20,45]\n",
        "largest, smallest, total = largest_smallest_sum(numbers)\n",
        "print(f\"largest: {largest},smallest: {smallest}, sum: {total}\")"
      ],
      "metadata": {
        "colab": {
          "base_uri": "https://localhost:8080/"
        },
        "id": "YauUX6hoBq-P",
        "outputId": "ddbaf20d-73a0-4846-8cca-4cfe1e333b5f"
      },
      "execution_count": 26,
      "outputs": [
        {
          "output_type": "stream",
          "name": "stdout",
          "text": [
            "largest: 45,smallest: 10, sum: 125\n"
          ]
        }
      ]
    },
    {
      "cell_type": "markdown",
      "source": [
        "30) How will you compare two lists?\n",
        "\n",
        "Ans:- Equality Operator (==): The == operator checks if the elements and their order are the same in both lists.\n",
        "Output: The comparison returns True if the lists are identical and False otherwise."
      ],
      "metadata": {
        "id": "FveNT_-oBuDX"
      }
    },
    {
      "cell_type": "markdown",
      "source": [
        "31) Write a Python program to count the number of strings where the string\n",
        "length is 2 or more and the first and last character are same from a given list\n",
        "of strings."
      ],
      "metadata": {
        "id": "OJPXMprLC6xe"
      }
    },
    {
      "cell_type": "code",
      "source": [
        "def count_strings(strings):\n",
        "    count = 0\n",
        "    for string in strings:\n",
        "        if len(string) >= 2 and string[0] == string[-1]:\n",
        "            count += 1\n",
        "    return count\n",
        "strings = [\"hello\",\"world\",\"radar\",\"madam\",\"pop\",\"level\"]\n",
        "count = count_strings(strings)\n",
        "print(f\"number of strings: {count}\")"
      ],
      "metadata": {
        "colab": {
          "base_uri": "https://localhost:8080/"
        },
        "id": "yg193FtQBugL",
        "outputId": "b7c36cc0-c5ab-484f-d279-0b731da20a5e"
      },
      "execution_count": 27,
      "outputs": [
        {
          "output_type": "stream",
          "name": "stdout",
          "text": [
            "number of strings: 4\n"
          ]
        }
      ]
    },
    {
      "cell_type": "markdown",
      "source": [
        "32)Write a Python program to remove duplicates from a list."
      ],
      "metadata": {
        "id": "uYjYRb-fBu1k"
      }
    },
    {
      "cell_type": "code",
      "source": [
        "my_list = [25,35,40,35,55,45]\n",
        "unique_list = list(set(my_list))  # 'list' is a built-in function and should be available\n",
        "print(unique_list)"
      ],
      "metadata": {
        "colab": {
          "base_uri": "https://localhost:8080/"
        },
        "id": "5s4QmIIuBvbS",
        "outputId": "32dda085-8e3e-4dfe-cd59-ab4929f18ff5"
      },
      "execution_count": 30,
      "outputs": [
        {
          "output_type": "stream",
          "name": "stdout",
          "text": [
            "[35, 40, 45, 55, 25]\n"
          ]
        }
      ]
    },
    {
      "cell_type": "markdown",
      "source": [
        "33)Write a Python program to check a list is empty or not."
      ],
      "metadata": {
        "id": "_tisHQSNDzb1"
      }
    },
    {
      "cell_type": "code",
      "source": [
        "string=input(\"enter a string \")\n",
        "if len(string)==0:\n",
        "  print(\"empty\")\n",
        "else:\n",
        "  print(\"not empty\")"
      ],
      "metadata": {
        "colab": {
          "base_uri": "https://localhost:8080/"
        },
        "id": "aFu4yxtjD52e",
        "outputId": "bae3f76a-87fc-4cea-efc8-b7570b8c7405"
      },
      "execution_count": 32,
      "outputs": [
        {
          "output_type": "stream",
          "name": "stdout",
          "text": [
            "enter a string Shailesh Chaudhari\n",
            "not empty\n"
          ]
        }
      ]
    },
    {
      "cell_type": "markdown",
      "source": [
        "34) Write a Python function that takes two lists and returns true if they\n",
        "have at least one common member."
      ],
      "metadata": {
        "id": "IXmlmlsRBv5l"
      }
    },
    {
      "cell_type": "code",
      "source": [
        "def common_member(list1, list2):\n",
        "    for item in list1:\n",
        "        if item in list2:\n",
        "            return True\n",
        "    return False\n",
        "list1 = [7,8,9]\n",
        "list2 = [1,2,3]\n",
        "result = common_member(list1,list2)\n",
        "print(result)"
      ],
      "metadata": {
        "colab": {
          "base_uri": "https://localhost:8080/"
        },
        "id": "sR5mUkvdEF15",
        "outputId": "2e6254f6-1b62-4602-addf-fba3ec8d2985"
      },
      "execution_count": 33,
      "outputs": [
        {
          "output_type": "stream",
          "name": "stdout",
          "text": [
            "False\n"
          ]
        }
      ]
    },
    {
      "cell_type": "markdown",
      "source": [
        "35) Write a Python program to generate and print a list of first and last 5\n",
        "elements where the values are square of numbers between 1 and 30."
      ],
      "metadata": {
        "id": "UnXYn9CKEMXd"
      }
    },
    {
      "cell_type": "code",
      "source": [
        "squares = [i**2 for i in range(1,31)]\n",
        "result = squares[:5] + squares[-5:]\n",
        "print(result)\n"
      ],
      "metadata": {
        "colab": {
          "base_uri": "https://localhost:8080/"
        },
        "id": "4Zsk7G3lEQyR",
        "outputId": "47a9f018-062b-40fb-d4c6-3a704a264821"
      },
      "execution_count": 34,
      "outputs": [
        {
          "output_type": "stream",
          "name": "stdout",
          "text": [
            "[1, 4, 9, 16, 25, 676, 729, 784, 841, 900]\n"
          ]
        }
      ]
    },
    {
      "cell_type": "markdown",
      "source": [
        "Write a Python function that takes a list and returns a new list with\n",
        "unique elements of the first list."
      ],
      "metadata": {
        "id": "sWKSWRk0EMT4"
      }
    },
    {
      "cell_type": "code",
      "source": [
        "my_list = [1,2,3,3,3,3,4,5]\n",
        "unique_list = list(set(my_list))\n",
        "print(unique_list)"
      ],
      "metadata": {
        "colab": {
          "base_uri": "https://localhost:8080/"
        },
        "id": "mvM-PAc3Et_V",
        "outputId": "62dab3a4-e25c-4fee-e461-5e89925d9626"
      },
      "execution_count": 35,
      "outputs": [
        {
          "output_type": "stream",
          "name": "stdout",
          "text": [
            "[1, 2, 3, 4, 5]\n"
          ]
        }
      ]
    },
    {
      "cell_type": "markdown",
      "source": [
        "37)Write a Python program to convert a list of characters into a string."
      ],
      "metadata": {
        "id": "FkbYoz46EMRk"
      }
    },
    {
      "cell_type": "code",
      "source": [
        "my_list = [\"g\",\"o\",\"o\",\"g\",\"l\",\"e\"]\n",
        "my_string = \"\".join(my_list)\n",
        "print(my_string)"
      ],
      "metadata": {
        "colab": {
          "base_uri": "https://localhost:8080/"
        },
        "id": "WwxNYpKJE0em",
        "outputId": "03911f9b-41a6-41ec-e832-12be95b9dadf"
      },
      "execution_count": 36,
      "outputs": [
        {
          "output_type": "stream",
          "name": "stdout",
          "text": [
            "google\n"
          ]
        }
      ]
    },
    {
      "cell_type": "markdown",
      "source": [
        "38)Write a Python program to select an item randomly from a list."
      ],
      "metadata": {
        "id": "dsxpnFADEMPT"
      }
    },
    {
      "cell_type": "code",
      "source": [
        "num=[1,2,3,4,5]\n",
        "import random\n",
        "print(random.choice(num))"
      ],
      "metadata": {
        "colab": {
          "base_uri": "https://localhost:8080/"
        },
        "id": "CVG_qVv1E8Eh",
        "outputId": "bfb4905b-f97e-4381-dfeb-d076ea96d82b"
      },
      "execution_count": 37,
      "outputs": [
        {
          "output_type": "stream",
          "name": "stdout",
          "text": [
            "5\n"
          ]
        }
      ]
    },
    {
      "cell_type": "markdown",
      "source": [
        "39)Write a Python program to find the second smallest number in a list."
      ],
      "metadata": {
        "id": "AhQ69ViMEMM_"
      }
    },
    {
      "cell_type": "code",
      "source": [
        "a=[10,20,30,40,50]\n",
        "a.sort()\n",
        "print(a[1])"
      ],
      "metadata": {
        "colab": {
          "base_uri": "https://localhost:8080/"
        },
        "id": "nFQLxj_bF1T3",
        "outputId": "de58772c-d300-4f68-aeac-30bc18b43f62"
      },
      "execution_count": 38,
      "outputs": [
        {
          "output_type": "stream",
          "name": "stdout",
          "text": [
            "20\n"
          ]
        }
      ]
    },
    {
      "cell_type": "markdown",
      "source": [
        "40)Write a Python program to get unique values from a list"
      ],
      "metadata": {
        "id": "hB_Cj1ANEMKf"
      }
    },
    {
      "cell_type": "code",
      "source": [
        "a=[1,2,2,3,4,4,5]\n",
        "b=set(a)\n",
        "print(b)"
      ],
      "metadata": {
        "colab": {
          "base_uri": "https://localhost:8080/"
        },
        "id": "bcgUk6NnGVpw",
        "outputId": "18c20265-27cf-4fe0-ecf7-fa8004964175"
      },
      "execution_count": 39,
      "outputs": [
        {
          "output_type": "stream",
          "name": "stdout",
          "text": [
            "{1, 2, 3, 4, 5}\n"
          ]
        }
      ]
    },
    {
      "cell_type": "markdown",
      "source": [
        "41)Write a Python program to check whether a list contains a sub list."
      ],
      "metadata": {
        "id": "0tFTHNLQEMIE"
      }
    },
    {
      "cell_type": "code",
      "source": [
        "def contains_sublist(list1, list2):\n",
        "    for item in list2:\n",
        "        if item not in list1:\n",
        "            return False\n",
        "    return True\n",
        "list1 = [4,5]\n",
        "list2 = [6,7]\n",
        "print(contains_sublist(list1, list2))"
      ],
      "metadata": {
        "colab": {
          "base_uri": "https://localhost:8080/"
        },
        "id": "auo4TeGcGcuX",
        "outputId": "8a7b4f21-1c6d-477e-e65c-970281b9da63"
      },
      "execution_count": 40,
      "outputs": [
        {
          "output_type": "stream",
          "name": "stdout",
          "text": [
            "False\n"
          ]
        }
      ]
    },
    {
      "cell_type": "markdown",
      "source": [
        "42)Write a Python program to split a list into different variables."
      ],
      "metadata": {
        "id": "jqQqToK_EMFl"
      }
    },
    {
      "cell_type": "code",
      "source": [
        "my_list = [1,2,3,4,5]\n",
        "a,b,c,d,e = my_list\n",
        "print(a,b,c,d,e)"
      ],
      "metadata": {
        "colab": {
          "base_uri": "https://localhost:8080/"
        },
        "id": "JEEBAxo-NEvc",
        "outputId": "048d559d-5f75-4543-8bf8-4dc36ec9550b"
      },
      "execution_count": 41,
      "outputs": [
        {
          "output_type": "stream",
          "name": "stdout",
          "text": [
            "1 2 3 4 5\n"
          ]
        }
      ]
    },
    {
      "cell_type": "markdown",
      "source": [
        "43)What is tuple? Difference between list and tuple.\n",
        "\n",
        "Ans:- In python tuple they are very similar to list.however,unlike list they are imutable meaning that they can not be change.list is a mutable,order of a elements.list are changeable element can be modify after list is created.tuple are very similar to list but tuple are imutable they can not be change.\n"
      ],
      "metadata": {
        "id": "aIrdKw7gEMDB"
      }
    },
    {
      "cell_type": "markdown",
      "source": [
        "44)Write a Python program to create a tuple with different data types."
      ],
      "metadata": {
        "id": "JTa_5bq9EL0z"
      }
    },
    {
      "cell_type": "code",
      "source": [
        "tuple = (1, \"world\", 2.68, True)\n",
        "print(tuple)\n"
      ],
      "metadata": {
        "colab": {
          "base_uri": "https://localhost:8080/"
        },
        "id": "JQexNyhBEKu4",
        "outputId": "bc5fa9ac-6941-47be-e664-307a3dd0b76a"
      },
      "execution_count": 42,
      "outputs": [
        {
          "output_type": "stream",
          "name": "stdout",
          "text": [
            "(1, 'world', 2.68, True)\n"
          ]
        }
      ]
    },
    {
      "cell_type": "markdown",
      "source": [
        "45)Write a Python program to unzip a list of tuples into individual lists."
      ],
      "metadata": {
        "id": "TZfJeRB9NcoS"
      }
    },
    {
      "cell_type": "code",
      "source": [
        "my_list = [(7,8,9),(15,20,30),(40,55,60)]\n",
        "x,y,z = zip(*my_list)\n",
        "print(x)\n",
        "print(y)\n",
        "print(z)"
      ],
      "metadata": {
        "colab": {
          "base_uri": "https://localhost:8080/"
        },
        "id": "fySwDtguNblz",
        "outputId": "4c6bfab2-433e-4cf6-df5c-6b45650e1669"
      },
      "execution_count": 43,
      "outputs": [
        {
          "output_type": "stream",
          "name": "stdout",
          "text": [
            "(7, 15, 40)\n",
            "(8, 20, 55)\n",
            "(9, 30, 60)\n"
          ]
        }
      ]
    },
    {
      "cell_type": "markdown",
      "source": [
        "46)Write a Python program to convert a list of tuples into a dictionary."
      ],
      "metadata": {
        "id": "N5IdNKfINiVG"
      }
    },
    {
      "cell_type": "code",
      "source": [
        "my_list = [(40, \"banana\"),(55, \"grapes\"),(64, \"cherry\")]\n",
        "my_dict = dict(my_list)\n",
        "print(my_dict)\n"
      ],
      "metadata": {
        "colab": {
          "base_uri": "https://localhost:8080/"
        },
        "id": "N-1lDWF3NhW7",
        "outputId": "b08ba940-ac94-4fae-80f5-8d0fb80f2b77"
      },
      "execution_count": 44,
      "outputs": [
        {
          "output_type": "stream",
          "name": "stdout",
          "text": [
            "{40: 'banana', 55: 'grapes', 64: 'cherry'}\n"
          ]
        }
      ]
    },
    {
      "cell_type": "markdown",
      "source": [
        "47)How will you create a dictionary using tuples in python?"
      ],
      "metadata": {
        "id": "eXr1LGfVNjKE"
      }
    },
    {
      "cell_type": "code",
      "source": [
        "my_dict = [(1, \"banana\"),(2, \"grapes\"),(3, \"cherry\")]\n",
        "my_dict = dict(my_dict)\n",
        "print(my_dict)"
      ],
      "metadata": {
        "colab": {
          "base_uri": "https://localhost:8080/"
        },
        "id": "R9RqBOg0Njoo",
        "outputId": "df4802ca-da10-4dd6-be3f-1ba5c3310a0d"
      },
      "execution_count": 45,
      "outputs": [
        {
          "output_type": "stream",
          "name": "stdout",
          "text": [
            "{1: 'banana', 2: 'grapes', 3: 'cherry'}\n"
          ]
        }
      ]
    },
    {
      "cell_type": "markdown",
      "source": [
        "48)Write a Python script to sort (ascending and descending) a\n",
        "dictionary by value."
      ],
      "metadata": {
        "id": "ebH7bQZfNt2b"
      }
    },
    {
      "cell_type": "code",
      "source": [
        "my_dict = {1:\"apple\",2:\"watermalon\",3:\"orange\"}\n",
        "sorted_dict_asc = dict(sorted(my_dict.items(), key=lambda item: item[1]))\n",
        "print(sorted_dict_asc)\n",
        "sorted_dict_desc = dict(sorted(my_dict.items(), key=lambda item: item[1],reverse=True))\n",
        "print(sorted_dict_desc)"
      ],
      "metadata": {
        "colab": {
          "base_uri": "https://localhost:8080/"
        },
        "id": "5H0je5eINuly",
        "outputId": "115b8d9b-63f9-463c-da97-7d07f5a7fc47"
      },
      "execution_count": 46,
      "outputs": [
        {
          "output_type": "stream",
          "name": "stdout",
          "text": [
            "{1: 'apple', 3: 'orange', 2: 'watermalon'}\n",
            "{2: 'watermalon', 3: 'orange', 1: 'apple'}\n"
          ]
        }
      ]
    },
    {
      "cell_type": "markdown",
      "source": [
        "49)Write a Python script to concatenate following dictionaries to create\n",
        "a new one."
      ],
      "metadata": {
        "id": "K-TGhz2fNu7o"
      }
    },
    {
      "cell_type": "code",
      "source": [
        "my_dict1 = {\"name\":\"jay\",\"age\":\"30\",\"gender\":\"male\",\"address\":\"ahmedabad\"}\n",
        "my_dict2 = {1:2,2:5,3:10,4:15,5:20}\n",
        "my_dict3 = {6:30,7:45,8:50,9:55,10:60}\n",
        "new_dict = {}\n",
        "for d in (my_dict1,my_dict2,my_dict3):\n",
        "  new_dict.update(d)\n",
        "print(new_dict)"
      ],
      "metadata": {
        "colab": {
          "base_uri": "https://localhost:8080/"
        },
        "id": "uZA081jWNvVW",
        "outputId": "1e1e5abb-45bf-4dbc-81af-a74429b8e653"
      },
      "execution_count": 47,
      "outputs": [
        {
          "output_type": "stream",
          "name": "stdout",
          "text": [
            "{'name': 'jay', 'age': '30', 'gender': 'male', 'address': 'ahmedabad', 1: 2, 2: 5, 3: 10, 4: 15, 5: 20, 6: 30, 7: 45, 8: 50, 9: 55, 10: 60}\n"
          ]
        }
      ]
    },
    {
      "cell_type": "markdown",
      "source": [
        "50)Write a Python script to check if a given key already exists in a\n",
        "dictionary."
      ],
      "metadata": {
        "id": "jQ4aPOz7N9EY"
      }
    },
    {
      "cell_type": "code",
      "source": [
        "my_dict = {\"x\":1, \"y\":2, \"z\":3}\n",
        "key_to_check = \"m\"\n",
        "if key_to_check in my_dict:\n",
        "  print(f\"The key '{key_to_check}' exist in the dictionary.\")\n",
        "else:\n",
        "  print(f\"The key '{key_to_check}' does not exist in the dictionary.\")"
      ],
      "metadata": {
        "colab": {
          "base_uri": "https://localhost:8080/"
        },
        "id": "J9reieY9N9mv",
        "outputId": "9efbda6f-fb03-4aef-8e99-4ec45e858caf"
      },
      "execution_count": 48,
      "outputs": [
        {
          "output_type": "stream",
          "name": "stdout",
          "text": [
            "The key 'm' does not exist in the dictionary.\n"
          ]
        }
      ]
    },
    {
      "cell_type": "markdown",
      "source": [
        "51)How Do You Traverse Through a Dictionary Object in Python?"
      ],
      "metadata": {
        "id": "zKwv6P6kOAMV"
      }
    },
    {
      "cell_type": "code",
      "source": [
        "my_dict = {\"name\":\"jay\",\"age\":\"30\",\"gender\":\"male\",\"address\":\"ahmedabad\"}\n",
        "for key,value in my_dict.items():\n",
        "  print(key,value)"
      ],
      "metadata": {
        "colab": {
          "base_uri": "https://localhost:8080/"
        },
        "id": "pd2xuL6yN_2U",
        "outputId": "e51e82d4-b156-4e4f-b333-59500492a3ac"
      },
      "execution_count": 49,
      "outputs": [
        {
          "output_type": "stream",
          "name": "stdout",
          "text": [
            "name jay\n",
            "age 30\n",
            "gender male\n",
            "address ahmedabad\n"
          ]
        }
      ]
    },
    {
      "cell_type": "markdown",
      "source": [
        "52)How Do You Check the Presence of a Key in A Dictionary?"
      ],
      "metadata": {
        "id": "Is0sLUx6OA7v"
      }
    },
    {
      "cell_type": "code",
      "source": [
        "my_dict = {\"Roll no\":\"10\",\"Name\":\"het\",\"salary\":\"20000\",\"age\":\"24\"}\n",
        "key_to_check = \"Name\"\n",
        "for key,value in my_dict.items():\n",
        " if key_to_check in my_dict:\n",
        "  print(f\"The key '{key_to_check}' exist in the dictionary.\")\n",
        " else:\n",
        "  print(f\"The key '{key_to_check}' does not exist in the dictionary.\")"
      ],
      "metadata": {
        "colab": {
          "base_uri": "https://localhost:8080/"
        },
        "id": "yHNJ2p8fN-5D",
        "outputId": "b718af7b-be37-433f-fbdc-a105de0ae0b2"
      },
      "execution_count": 50,
      "outputs": [
        {
          "output_type": "stream",
          "name": "stdout",
          "text": [
            "The key 'Name' exist in the dictionary.\n",
            "The key 'Name' exist in the dictionary.\n",
            "The key 'Name' exist in the dictionary.\n",
            "The key 'Name' exist in the dictionary.\n"
          ]
        }
      ]
    },
    {
      "cell_type": "markdown",
      "source": [
        "53)Write a Python script to print a dictionary where the keys are\n",
        "numbers between 1 and 15."
      ],
      "metadata": {
        "id": "QflftOiRN-Z_"
      }
    },
    {
      "cell_type": "code",
      "source": [
        "my_dict = {}\n",
        "for i in range(1,16):\n",
        "  my_dict[i]=i**2\n",
        "print(my_dict)"
      ],
      "metadata": {
        "colab": {
          "base_uri": "https://localhost:8080/"
        },
        "id": "-graJQ2ANtJe",
        "outputId": "c87c74ac-5cf6-48d2-87f4-148e98127847"
      },
      "execution_count": 51,
      "outputs": [
        {
          "output_type": "stream",
          "name": "stdout",
          "text": [
            "{1: 1, 2: 4, 3: 9, 4: 16, 5: 25, 6: 36, 7: 49, 8: 64, 9: 81, 10: 100, 11: 121, 12: 144, 13: 169, 14: 196, 15: 225}\n"
          ]
        }
      ]
    },
    {
      "cell_type": "markdown",
      "source": [
        "54)Write a Python program to check multiple keys exists in a dictionary."
      ],
      "metadata": {
        "id": "2MvNDF1DOnF1"
      }
    },
    {
      "cell_type": "code",
      "source": [
        "my_dict = {\"Roll no\":\"10\",\"Name\":\"het\",\"salary\":\"20000\",\"age\":\"24\"}\n",
        "keys_to_check = [\"Roll no\",\"Name\",\"salary\",\"age\"]\n",
        "if all(key in my_dict for key in keys_to_check):\n",
        "  print(\"All keys exist in the dictionary.\")\n",
        "else:\n",
        "  print(\"At least one key does not exist in the dictionary.\")"
      ],
      "metadata": {
        "colab": {
          "base_uri": "https://localhost:8080/"
        },
        "id": "Nd5igAnaOnv1",
        "outputId": "ef3c6886-bb8b-475f-d031-d876c3d6cb31"
      },
      "execution_count": 52,
      "outputs": [
        {
          "output_type": "stream",
          "name": "stdout",
          "text": [
            "All keys exist in the dictionary.\n"
          ]
        }
      ]
    },
    {
      "cell_type": "markdown",
      "source": [
        "55)Write a Python script to merge two Python dictionaries."
      ],
      "metadata": {
        "id": "riYLJfn2OpHv"
      }
    },
    {
      "cell_type": "code",
      "source": [
        "y_dict1 = {\"Roll no\":\"10\",\"Name\":\"het\",\"salary\":\"20000\",\"age\":\"24\"}\n",
        "my_dict2 = {\"city\":\"ahmedabad\",\"country\":\"india\"}\n",
        "my_dict1.update(my_dict2)\n",
        "print(my_dict1)\n"
      ],
      "metadata": {
        "colab": {
          "base_uri": "https://localhost:8080/"
        },
        "id": "lwF5Her8Oooq",
        "outputId": "f31177bc-69c4-4794-80fd-2524fb725acc"
      },
      "execution_count": 53,
      "outputs": [
        {
          "output_type": "stream",
          "name": "stdout",
          "text": [
            "{'name': 'jay', 'age': '30', 'gender': 'male', 'address': 'ahmedabad', 'city': 'ahmedabad', 'country': 'india'}\n"
          ]
        }
      ]
    },
    {
      "cell_type": "markdown",
      "source": [
        "56)Write a Python program to map two lists into a dictionary\n",
        "Sample output: Counter ({'a': 400, 'b': 400,’d’: 400, 'c': 300})."
      ],
      "metadata": {
        "id": "gv9qTLM4OoMI"
      }
    },
    {
      "cell_type": "code",
      "source": [
        "my_list1 = [\"a\",\"b\",\"c\",\"d\"]\n",
        "my_list2 = [400,400,400,300]\n",
        "my_dict = dict(zip(my_list1,my_list2))\n",
        "print(my_dict)"
      ],
      "metadata": {
        "colab": {
          "base_uri": "https://localhost:8080/"
        },
        "id": "cktf-dXPOfaX",
        "outputId": "e202ab3a-3122-4eb1-8d96-4dcc9037717a"
      },
      "execution_count": 54,
      "outputs": [
        {
          "output_type": "stream",
          "name": "stdout",
          "text": [
            "{'a': 400, 'b': 400, 'c': 400, 'd': 300}\n"
          ]
        }
      ]
    },
    {
      "cell_type": "markdown",
      "source": [
        "58) Write a Python program to combine values in python list of dictionaries.\n",
        "Sample data: [{'item': 'item1', 'amount': 400}, {'item': 'item2', 'amount':\n",
        "300}, o {'item': 'item1', 'amount': 750}]\n",
        "Expected Output:\n",
        "• Counter ({'item1': 1150, 'item2': 300})"
      ],
      "metadata": {
        "id": "TLBBAViVUlRP"
      }
    },
    {
      "cell_type": "code",
      "source": [
        "from collections import Counter # Import the Counter class\n",
        "\n",
        "item_list = [{\"item\": \"item1\", \"amount\": 400}, {\"item\": \"item2\", \"amount\": 300}, {\"item\": \"item1\", \"amount\": 750}]\n",
        "\n",
        "result = Counter()\n",
        "\n",
        "for item in item_list:\n",
        "    result[item['item']] += item['amount']\n",
        "\n",
        "print(result)\n"
      ],
      "metadata": {
        "colab": {
          "base_uri": "https://localhost:8080/"
        },
        "id": "j80Ehl2IPA4d",
        "outputId": "b316991c-3e6d-4649-fe5a-facefd8a9dda"
      },
      "execution_count": 56,
      "outputs": [
        {
          "output_type": "stream",
          "name": "stdout",
          "text": [
            "Counter({'item1': 1150, 'item2': 300})\n"
          ]
        }
      ]
    },
    {
      "cell_type": "markdown",
      "source": [
        "59)Write a Python program to create a dictionary from a string.\n",
        "Note: Track the count of the letters from the string.\n"
      ],
      "metadata": {
        "id": "rn_PiCSYVNMc"
      }
    },
    {
      "cell_type": "code",
      "source": [
        "string = \"Hello World\"\n",
        "char_count = {}\n",
        "\n",
        "for char in string:\n",
        "    char = char.lower()\n",
        "    if char.isalpha():\n",
        "        if char in char_count:\n",
        "            char_count[char] += 1\n",
        "        else:\n",
        "            char_count[char] = 1\n",
        "\n",
        "print(char_count)"
      ],
      "metadata": {
        "colab": {
          "base_uri": "https://localhost:8080/"
        },
        "id": "HWdUdvijU3KE",
        "outputId": "c49d628f-666e-4bb3-8184-a69eb969bce8"
      },
      "execution_count": 57,
      "outputs": [
        {
          "output_type": "stream",
          "name": "stdout",
          "text": [
            "{'h': 1, 'e': 1, 'l': 3, 'o': 2, 'w': 1, 'r': 1, 'd': 1}\n"
          ]
        }
      ]
    },
    {
      "cell_type": "markdown",
      "source": [
        "60)Sample string:\n",
        " 'w3resource' Expected output:\n",
        "• {'3': 1,’s’: 1, 'r': 2, 'u': 1, 'w': 1, 'c': 1, 'e': 2, 'o': 1}"
      ],
      "metadata": {
        "id": "3wHDCQEoVdXS"
      }
    },
    {
      "cell_type": "code",
      "source": [
        "def char_frequency(str1):\n",
        "    dict = {}\n",
        "    for n in str1:\n",
        "        keys = dict.keys()\n",
        "        if n in keys:\n",
        "            dict[n] += 1\n",
        "        else:\n",
        "            dict[n] = 1\n",
        "    return dict\n",
        "print(char_frequency('w3resource'))"
      ],
      "metadata": {
        "colab": {
          "base_uri": "https://localhost:8080/"
        },
        "id": "dbuHitmMVTNa",
        "outputId": "55ae021e-b8c0-4727-a1a2-9fc595b0aac1"
      },
      "execution_count": 58,
      "outputs": [
        {
          "output_type": "stream",
          "name": "stdout",
          "text": [
            "{'w': 1, '3': 1, 'r': 2, 'e': 2, 's': 1, 'o': 1, 'u': 1, 'c': 1}\n"
          ]
        }
      ]
    },
    {
      "cell_type": "markdown",
      "source": [
        " 61)Write a Python function to calculate the factorial of a number (a\n",
        "nonnegative integer)"
      ],
      "metadata": {
        "id": "R4sAmbKPVjFT"
      }
    },
    {
      "cell_type": "code",
      "source": [
        "num = int(input(\"enter a number: \"))\n",
        "factorial = 1\n",
        "for i in range(1,num+1):\n",
        "  factorial=factorial*i\n",
        "print(factorial)"
      ],
      "metadata": {
        "colab": {
          "base_uri": "https://localhost:8080/"
        },
        "id": "tdVWqnw5ViBQ",
        "outputId": "8862fe49-6a73-4ecc-bd94-fb7895fab491"
      },
      "execution_count": 62,
      "outputs": [
        {
          "output_type": "stream",
          "name": "stdout",
          "text": [
            "enter a number: 5\n",
            "120\n"
          ]
        }
      ]
    },
    {
      "cell_type": "markdown",
      "source": [
        "62)Write a Python function to check whether a number is in a given range."
      ],
      "metadata": {
        "id": "3CmHYPZbVvqG"
      }
    },
    {
      "cell_type": "code",
      "source": [
        "range1=int(input(\"enter a range: \"))\n",
        "num = int(input(\"enter a number: \"))\n",
        "if num in range(1,range1):\n",
        "  print(\"in range\")\n",
        "else:\n",
        "  print(\"not in range\")"
      ],
      "metadata": {
        "colab": {
          "base_uri": "https://localhost:8080/"
        },
        "id": "IPT646UMVmhz",
        "outputId": "86aac662-e3be-489c-8e85-681f28d91580"
      },
      "execution_count": 63,
      "outputs": [
        {
          "output_type": "stream",
          "name": "stdout",
          "text": [
            "enter a range: 5\n",
            "enter a number: 2\n",
            "in range\n"
          ]
        }
      ]
    },
    {
      "cell_type": "markdown",
      "source": [
        "63)Write a Python function to check whether a number is perfect or not."
      ],
      "metadata": {
        "id": "zypIZ7ytV4eB"
      }
    },
    {
      "cell_type": "code",
      "source": [
        "num = int(input(\"enter a number: \"))\n",
        "sum = 0\n",
        "for i in range(1,num):\n",
        "  if num%i==0:\n",
        "    sum=sum+i\n",
        "if sum==num:\n",
        "  print(\"perfect\")\n",
        "else:\n",
        "  print(\"not perfect\")"
      ],
      "metadata": {
        "colab": {
          "base_uri": "https://localhost:8080/"
        },
        "id": "Ft2FAdRVV5Cq",
        "outputId": "8bed8e6c-3383-42cf-8c21-55884334df93"
      },
      "execution_count": 64,
      "outputs": [
        {
          "output_type": "stream",
          "name": "stdout",
          "text": [
            "enter a number: 15\n",
            "not perfect\n"
          ]
        }
      ]
    },
    {
      "cell_type": "markdown",
      "source": [
        "64)Write a Python function that checks whether a passed string is\n",
        "palindrome or not"
      ],
      "metadata": {
        "id": "3bY9tNqWV4Gt"
      }
    },
    {
      "cell_type": "code",
      "source": [
        "def is_palindrome(string):\n",
        "    reversed_string = string[::-1]\n",
        "    if string == reversed_string:\n",
        "        return True\n",
        "    else:\n",
        "        return False\n",
        "string=input(\"enter a string: \")\n",
        "print(is_palindrome(string))"
      ],
      "metadata": {
        "colab": {
          "base_uri": "https://localhost:8080/"
        },
        "id": "M1xHevtdV1GB",
        "outputId": "145371b6-aa39-4a7b-df5a-3f928e77e897"
      },
      "execution_count": 65,
      "outputs": [
        {
          "output_type": "stream",
          "name": "stdout",
          "text": [
            "enter a string: shailesh\n",
            "False\n"
          ]
        }
      ]
    },
    {
      "cell_type": "markdown",
      "source": [
        "65)How Many Basic Types of Functions Are Available in Python?\n",
        "\n",
        "Ans:- Built-in Functions:\n",
        "These are pre-defined functions readily available in Python. Examples include print(), len(), range(), and type().\n",
        "User-defined Functions:\n",
        "These are functions created by the user to perform specific tasks. They are defined using the def keyword"
      ],
      "metadata": {
        "id": "Bj57qz67V5qL"
      }
    },
    {
      "cell_type": "markdown",
      "source": [
        "66)How can you pick a random item from a list or tuple?"
      ],
      "metadata": {
        "id": "wPsaHbpTWOYh"
      }
    },
    {
      "cell_type": "code",
      "source": [
        "my_list = [1,2,3,4,5]\n",
        "import random\n",
        "print(random.choice(my_list))"
      ],
      "metadata": {
        "colab": {
          "base_uri": "https://localhost:8080/"
        },
        "id": "rI6UEYjrV6E8",
        "outputId": "f74c463a-45f7-455b-d45f-715b5ff6fdd9"
      },
      "execution_count": 66,
      "outputs": [
        {
          "output_type": "stream",
          "name": "stdout",
          "text": [
            "1\n"
          ]
        }
      ]
    },
    {
      "cell_type": "markdown",
      "source": [
        "67)How can you pick a random item from a range?"
      ],
      "metadata": {
        "id": "dLEZGwdpWVZr"
      }
    },
    {
      "cell_type": "code",
      "source": [
        "import random\n",
        "random_number = random.randint(1,10)\n",
        "print(random_number)"
      ],
      "metadata": {
        "colab": {
          "base_uri": "https://localhost:8080/"
        },
        "id": "5PjNiEqbWUdY",
        "outputId": "e60bc870-a245-42c4-8cac-6f54e69218f9"
      },
      "execution_count": 67,
      "outputs": [
        {
          "output_type": "stream",
          "name": "stdout",
          "text": [
            "6\n"
          ]
        }
      ]
    },
    {
      "cell_type": "markdown",
      "source": [
        "68)How can you get a random number in python?"
      ],
      "metadata": {
        "id": "fVEB-dnbWaW8"
      }
    },
    {
      "cell_type": "code",
      "source": [
        "import random\n",
        "random_number = random.random()\n",
        "print(random_number)"
      ],
      "metadata": {
        "colab": {
          "base_uri": "https://localhost:8080/"
        },
        "id": "j62LgkDWWZHO",
        "outputId": "b631d443-b629-4c70-9f6a-b50e308efa14"
      },
      "execution_count": 68,
      "outputs": [
        {
          "output_type": "stream",
          "name": "stdout",
          "text": [
            "0.3284667577151812\n"
          ]
        }
      ]
    },
    {
      "cell_type": "markdown",
      "source": [
        "69)How will you set the starting value in generating random numbers?\n",
        "\n",
        "Ans:- Import the random Module: Start by importing the random module, which provides tools for generating random numbers.\n",
        "\n",
        "Use the seed() Function: The random.seed(value) function initializes the random number generator with a specific value. This ensures that the sequence of random numbers generated is reproducible.\n",
        "\n",
        "Choosing a Seed: The seed can be any integer or hashable object. Common choices include a specific number, system time, or a value derived from external sources\n"
      ],
      "metadata": {
        "id": "-sIyPDyMWbJ0"
      }
    },
    {
      "cell_type": "markdown",
      "source": [
        "70)How will you randomize the items of a list in place?"
      ],
      "metadata": {
        "id": "QuO28SsRWqtr"
      }
    },
    {
      "cell_type": "code",
      "source": [
        "my_list = [1,2,3,4,5]\n",
        "random.shuffle(my_list)\n",
        "print(my_list)"
      ],
      "metadata": {
        "colab": {
          "base_uri": "https://localhost:8080/"
        },
        "id": "Z2c0XIn1WblG",
        "outputId": "17e50c0e-bdbe-46e3-86ae-150d257d8234"
      },
      "execution_count": 69,
      "outputs": [
        {
          "output_type": "stream",
          "name": "stdout",
          "text": [
            "[5, 3, 1, 2, 4]\n"
          ]
        }
      ]
    },
    {
      "cell_type": "markdown",
      "source": [
        "71)What is File function in python? What are keywords to create\n",
        "and write file.\n",
        "\n",
        "Ans:- In Python, you don't have a single \"File function\". Instead, you interact with files using built-in functions and methods.\n",
        "\n",
        "To create and write to a file, you'll primarily use these keywords and functions:\n",
        "\n",
        "1. open(): This function is used to open a file and returns a file object. The key is to use the right mode when opening:\n",
        "2. write(): This method of a file object is used to write a string to the file.\n",
        "\n",
        "3. close(): It's essential to close the file object after you're done writing to it to ensure that all changes are saved and resources are released."
      ],
      "metadata": {
        "id": "qKTYxxr0Wb7F"
      }
    },
    {
      "cell_type": "markdown",
      "source": [
        "72) Write a Python program to read an entire text file."
      ],
      "metadata": {
        "id": "NGnvSvPoXCXw"
      }
    },
    {
      "cell_type": "code",
      "source": [
        "def read_entire_text_file(file_path):\n",
        "  \"\"\"Reads the entire content of a text file.\n",
        "\n",
        "  Args:\n",
        "    file_path: The path to the text file.\n",
        "\n",
        "  Returns:\n",
        "    The content of the file as a string.\n",
        "  \"\"\"\n",
        "\n",
        "  with open(file_path, 'r') as file:\n",
        "    content = file.read()\n",
        "  return content\n",
        "\n",
        "if __name__ == '__main__':\n",
        "  file_path = 'your_file.txt'  # Replace with the actual file path\n",
        "  file_content = read_entire_text_file(file_path)\n",
        "  print(file_content)\n"
      ],
      "metadata": {
        "colab": {
          "base_uri": "https://localhost:8080/",
          "height": 335
        },
        "id": "UGp4msLaWcXH",
        "outputId": "d66c9443-eacc-45bb-a004-458693e2a33c"
      },
      "execution_count": 70,
      "outputs": [
        {
          "output_type": "error",
          "ename": "FileNotFoundError",
          "evalue": "[Errno 2] No such file or directory: 'your_file.txt'",
          "traceback": [
            "\u001b[0;31m---------------------------------------------------------------------------\u001b[0m",
            "\u001b[0;31mFileNotFoundError\u001b[0m                         Traceback (most recent call last)",
            "\u001b[0;32m<ipython-input-70-abae1dac82fc>\u001b[0m in \u001b[0;36m<cell line: 15>\u001b[0;34m()\u001b[0m\n\u001b[1;32m     15\u001b[0m \u001b[0;32mif\u001b[0m \u001b[0m__name__\u001b[0m \u001b[0;34m==\u001b[0m \u001b[0;34m'__main__'\u001b[0m\u001b[0;34m:\u001b[0m\u001b[0;34m\u001b[0m\u001b[0;34m\u001b[0m\u001b[0m\n\u001b[1;32m     16\u001b[0m   \u001b[0mfile_path\u001b[0m \u001b[0;34m=\u001b[0m \u001b[0;34m'your_file.txt'\u001b[0m  \u001b[0;31m# Replace with the actual file path\u001b[0m\u001b[0;34m\u001b[0m\u001b[0;34m\u001b[0m\u001b[0m\n\u001b[0;32m---> 17\u001b[0;31m   \u001b[0mfile_content\u001b[0m \u001b[0;34m=\u001b[0m \u001b[0mread_entire_text_file\u001b[0m\u001b[0;34m(\u001b[0m\u001b[0mfile_path\u001b[0m\u001b[0;34m)\u001b[0m\u001b[0;34m\u001b[0m\u001b[0;34m\u001b[0m\u001b[0m\n\u001b[0m\u001b[1;32m     18\u001b[0m   \u001b[0mprint\u001b[0m\u001b[0;34m(\u001b[0m\u001b[0mfile_content\u001b[0m\u001b[0;34m)\u001b[0m\u001b[0;34m\u001b[0m\u001b[0;34m\u001b[0m\u001b[0m\n",
            "\u001b[0;32m<ipython-input-70-abae1dac82fc>\u001b[0m in \u001b[0;36mread_entire_text_file\u001b[0;34m(file_path)\u001b[0m\n\u001b[1;32m      9\u001b[0m   \"\"\"\n\u001b[1;32m     10\u001b[0m \u001b[0;34m\u001b[0m\u001b[0m\n\u001b[0;32m---> 11\u001b[0;31m   \u001b[0;32mwith\u001b[0m \u001b[0mopen\u001b[0m\u001b[0;34m(\u001b[0m\u001b[0mfile_path\u001b[0m\u001b[0;34m,\u001b[0m \u001b[0;34m'r'\u001b[0m\u001b[0;34m)\u001b[0m \u001b[0;32mas\u001b[0m \u001b[0mfile\u001b[0m\u001b[0;34m:\u001b[0m\u001b[0;34m\u001b[0m\u001b[0;34m\u001b[0m\u001b[0m\n\u001b[0m\u001b[1;32m     12\u001b[0m     \u001b[0mcontent\u001b[0m \u001b[0;34m=\u001b[0m \u001b[0mfile\u001b[0m\u001b[0;34m.\u001b[0m\u001b[0mread\u001b[0m\u001b[0;34m(\u001b[0m\u001b[0;34m)\u001b[0m\u001b[0;34m\u001b[0m\u001b[0;34m\u001b[0m\u001b[0m\n\u001b[1;32m     13\u001b[0m   \u001b[0;32mreturn\u001b[0m \u001b[0mcontent\u001b[0m\u001b[0;34m\u001b[0m\u001b[0;34m\u001b[0m\u001b[0m\n",
            "\u001b[0;31mFileNotFoundError\u001b[0m: [Errno 2] No such file or directory: 'your_file.txt'"
          ]
        }
      ]
    },
    {
      "cell_type": "code",
      "source": [],
      "metadata": {
        "id": "0zt3XOrJXGuA"
      },
      "execution_count": null,
      "outputs": []
    }
  ]
}